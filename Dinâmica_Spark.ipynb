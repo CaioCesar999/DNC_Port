{
  "nbformat": 4,
  "nbformat_minor": 0,
  "metadata": {
    "colab": {
      "name": "Dinâmica_Spark",
      "provenance": [],
      "collapsed_sections": [],
      "include_colab_link": true
    },
    "kernelspec": {
      "name": "python3",
      "display_name": "Python 3"
    },
    "language_info": {
      "name": "python"
    }
  },
  "cells": [
    {
      "cell_type": "markdown",
      "metadata": {
        "id": "view-in-github",
        "colab_type": "text"
      },
      "source": [
        "<a href=\"https://colab.research.google.com/github/CaioCesar999/DNC_Port/blob/main/Din%C3%A2mica_Spark.ipynb\" target=\"_parent\"><img src=\"https://colab.research.google.com/assets/colab-badge.svg\" alt=\"Open In Colab\"/></a>"
      ]
    },
    {
      "cell_type": "markdown",
      "source": [
        "# **SETUP**"
      ],
      "metadata": {
        "id": "6kQXgVUDm36y"
      }
    },
    {
      "cell_type": "markdown",
      "source": [
        "## Spark UI"
      ],
      "metadata": {
        "id": "hjE_B03_m9Rt"
      }
    },
    {
      "cell_type": "code",
      "source": [
        "!pip install -q pyspark\n",
        "!pip install -q pyngrok"
      ],
      "metadata": {
        "id": "LxWd0qTjmraa",
        "colab": {
          "base_uri": "https://localhost:8080/"
        },
        "outputId": "560f25e1-a760-4d81-abc9-0d14c508629c"
      },
      "execution_count": 1,
      "outputs": [
        {
          "output_type": "stream",
          "name": "stdout",
          "text": [
            "\u001b[K     |████████████████████████████████| 281.3 MB 46 kB/s \n",
            "\u001b[K     |████████████████████████████████| 199 kB 51.5 MB/s \n",
            "\u001b[?25h  Building wheel for pyspark (setup.py) ... \u001b[?25l\u001b[?25hdone\n",
            "\u001b[K     |████████████████████████████████| 745 kB 9.8 MB/s \n",
            "\u001b[?25h  Building wheel for pyngrok (setup.py) ... \u001b[?25l\u001b[?25hdone\n"
          ]
        }
      ]
    },
    {
      "cell_type": "code",
      "execution_count": 2,
      "metadata": {
        "colab": {
          "base_uri": "https://localhost:8080/",
          "height": 219
        },
        "id": "R3ZdnLL5e2ks",
        "outputId": "6a2a0458-cde0-4a67-9aed-6597b7cb6ded"
      },
      "outputs": [
        {
          "output_type": "execute_result",
          "data": {
            "text/plain": [
              "<pyspark.sql.session.SparkSession at 0x7f54077a7e10>"
            ],
            "text/html": [
              "\n",
              "            <div>\n",
              "                <p><b>SparkSession - in-memory</b></p>\n",
              "                \n",
              "        <div>\n",
              "            <p><b>SparkContext</b></p>\n",
              "\n",
              "            <p><a href=\"http://dc75248d3b53:4050\">Spark UI</a></p>\n",
              "\n",
              "            <dl>\n",
              "              <dt>Version</dt>\n",
              "                <dd><code>v3.3.0</code></dd>\n",
              "              <dt>Master</dt>\n",
              "                <dd><code>local[*]</code></dd>\n",
              "              <dt>AppName</dt>\n",
              "                <dd><code>pyspark-shell</code></dd>\n",
              "            </dl>\n",
              "        </div>\n",
              "        \n",
              "            </div>\n",
              "        "
            ]
          },
          "metadata": {},
          "execution_count": 2
        }
      ],
      "source": [
        "from pyspark.sql import SparkSession\n",
        "spark = SparkSession.builder.config('spark.ui.port', '4050').getOrCreate()\n",
        "spark"
      ]
    },
    {
      "cell_type": "code",
      "source": [
        "# Fazer login no site https://dashboard.ngrok.com/get-started/setup para obter autenticação própria\n",
        "ngrok_token = '27WqUGZ1SkzPl4bQunMXJyasbWZ_5pCgLCsppL7ufk9rzK7j4'"
      ],
      "metadata": {
        "id": "VK5ksALRlODl"
      },
      "execution_count": 3,
      "outputs": []
    },
    {
      "cell_type": "code",
      "source": [
        "get_ipython().system_raw(f'ngrok authtoken {ngrok_token}')\n",
        "get_ipython().system_raw('ngrok http 4050 &')\n",
        "!sleep 3\n",
        "print('URL para interface Spark:')\n",
        "!curl -s http://localhost:4040/api/tunnels | grep -Po 'public_url\":\"(?=https)\\K[^\"]*'"
      ],
      "metadata": {
        "colab": {
          "base_uri": "https://localhost:8080/"
        },
        "id": "gKPmX_f1gV7C",
        "outputId": "2d4c35cc-a5ab-4c5d-9a0a-89c7b48e5d0f"
      },
      "execution_count": 4,
      "outputs": [
        {
          "output_type": "stream",
          "name": "stdout",
          "text": [
            "URL para interface Spark:\n"
          ]
        }
      ]
    },
    {
      "cell_type": "markdown",
      "source": [
        "## Libraries"
      ],
      "metadata": {
        "id": "3hm3CvMdn3Jd"
      }
    },
    {
      "cell_type": "code",
      "source": [
        "import pandas as pd\n",
        "from google.colab import files\n",
        "\n",
        "import pyspark.sql.functions as F\n",
        "from pyspark.sql.window import Window"
      ],
      "metadata": {
        "id": "Yi82wbeZn2jT"
      },
      "execution_count": 5,
      "outputs": []
    },
    {
      "cell_type": "markdown",
      "source": [
        "# Load data"
      ],
      "metadata": {
        "id": "D6PpCkDmnjOv"
      }
    },
    {
      "cell_type": "code",
      "source": [
        "# Load file\n",
        "_ = files.upload()"
      ],
      "metadata": {
        "colab": {
          "base_uri": "https://localhost:8080/",
          "height": 73,
          "resources": {
            "http://localhost:8080/nbextensions/google.colab/files.js": {
              "data": "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",
              "ok": true,
              "headers": [
                [
                  "content-type",
                  "application/javascript"
                ]
              ],
              "status": 200,
              "status_text": ""
            }
          }
        },
        "id": "JOMjC3OennnG",
        "outputId": "e040e97e-1800-43d6-de87-c18725b4ff7f"
      },
      "execution_count": 6,
      "outputs": [
        {
          "output_type": "display_data",
          "data": {
            "text/plain": [
              "<IPython.core.display.HTML object>"
            ],
            "text/html": [
              "\n",
              "     <input type=\"file\" id=\"files-e80ee862-fc86-46c9-9845-11bc529ddefd\" name=\"files[]\" multiple disabled\n",
              "        style=\"border:none\" />\n",
              "     <output id=\"result-e80ee862-fc86-46c9-9845-11bc529ddefd\">\n",
              "      Upload widget is only available when the cell has been executed in the\n",
              "      current browser session. Please rerun this cell to enable.\n",
              "      </output>\n",
              "      <script src=\"/nbextensions/google.colab/files.js\"></script> "
            ]
          },
          "metadata": {}
        },
        {
          "output_type": "stream",
          "name": "stdout",
          "text": [
            "Saving vgsales.csv to vgsales.csv\n"
          ]
        }
      ]
    },
    {
      "cell_type": "markdown",
      "source": [
        "## Data Description\n",
        "\n",
        "This dataset contains records of popular video games in North America, Japan, Europe and other parts of the world. Every video game in this dataset has at least 100k global sales.\n",
        "\n",
        "[Source](https://www.kaggle.com/datasets/gregorut/videogamesales/code?datasetId=284&sortBy=voteCount) of dataset."
      ],
      "metadata": {
        "id": "7Rl5rJY6AaGB"
      }
    },
    {
      "cell_type": "markdown",
      "source": [
        "## Data Dictionary\n",
        "\n",
        "| Column       | Explanation                                               |\n",
        "|:-------------|:----------------------------------------------------------|\n",
        "| Rank         | Ranking of overall sales                                  |\n",
        "| Name         | Name of the game                                          |\n",
        "| Platform     | Platform of the games release (i.e. PC,PS4, etc.)         |\n",
        "| Year         | Year the game was released in                             |\n",
        "| Genre        | Genre of the game                                         |\n",
        "| Publisher    | Publisher of the game                                     |\n",
        "| NA_Sales     | Number of sales in North America (in millions)            |\n",
        "| EU_Sales     | Number of sales in Europe (in millions)                   |\n",
        "| JP_Sales     | Number of sales in Japan (in millions)                    |\n",
        "| Other_Sales  | Number of sales in other parts of the world (in millions) |\n",
        "| Global_Sales | Number of total sales (in millions)                       |"
      ],
      "metadata": {
        "id": "UA1MxT30BH3y"
      }
    },
    {
      "cell_type": "markdown",
      "source": [
        "# Questões"
      ],
      "metadata": {
        "id": "3Da460witUFZ"
      }
    },
    {
      "cell_type": "markdown",
      "source": [
        "## Questão 1\n",
        "\n",
        "Leia os dados com Spark, certificando-se que\n",
        "\n",
        "1. A tabela tenha duas partições e\n",
        "\n",
        "2. As colunas da tabela tenham este respectivo schema:\n",
        "\n",
        "|Column|Data type|\n",
        "|---|---|\n",
        "|Rank|integer|\n",
        "|Name|string|\n",
        "|Platform|string|\n",
        "|Year|integer|\n",
        "|Genre|string|\n",
        "|Publisher|string|\n",
        "|NA_Sales|double|\n",
        "|EU_Sales|double|\n",
        "|JP_Sales|double|\n",
        "|Other_Sales|double|\n",
        "|Global_Sales|double|"
      ],
      "metadata": {
        "id": "MS3XUkPRrOzh"
      }
    },
    {
      "cell_type": "code",
      "source": [
        "df.printSchema()"
      ],
      "metadata": {
        "colab": {
          "base_uri": "https://localhost:8080/"
        },
        "id": "RTS-egfoJ9YP",
        "outputId": "4d464db6-d4f3-41c9-a69b-9a5667496dfe"
      },
      "execution_count": 16,
      "outputs": [
        {
          "output_type": "stream",
          "name": "stdout",
          "text": [
            "root\n",
            " |-- Rank: integer (nullable = true)\n",
            " |-- Name: string (nullable = true)\n",
            " |-- Platform: string (nullable = true)\n",
            " |-- Year: string (nullable = true)\n",
            " |-- Genre: string (nullable = true)\n",
            " |-- Publisher: string (nullable = true)\n",
            " |-- NA_Sales: double (nullable = true)\n",
            " |-- EU_Sales: double (nullable = true)\n",
            " |-- JP_Sales: double (nullable = true)\n",
            " |-- Other_Sales: double (nullable = true)\n",
            " |-- Global_Sales: double (nullable = true)\n",
            "\n"
          ]
        }
      ]
    },
    {
      "cell_type": "code",
      "source": [
        "df = spark.read.csv('vgsales.csv', header=True, inferSchema=True) "
      ],
      "metadata": {
        "id": "ijg3-iMHr-_C"
      },
      "execution_count": 8,
      "outputs": []
    },
    {
      "cell_type": "code",
      "source": [
        "df.head()"
      ],
      "metadata": {
        "colab": {
          "base_uri": "https://localhost:8080/"
        },
        "id": "5gnEv3OGJKJO",
        "outputId": "5d8143ce-801c-4ea4-835f-5f29a3d59469"
      },
      "execution_count": 9,
      "outputs": [
        {
          "output_type": "execute_result",
          "data": {
            "text/plain": [
              "Row(Rank=1, Name='Wii Sports', Platform='Wii', Year='2006', Genre='Sports', Publisher='Nintendo', NA_Sales=41.49, EU_Sales=29.02, JP_Sales=3.77, Other_Sales=8.46, Global_Sales=82.74)"
            ]
          },
          "metadata": {},
          "execution_count": 9
        }
      ]
    },
    {
      "cell_type": "code",
      "source": [
        "df = df.repartition(2) "
      ],
      "metadata": {
        "id": "Tes9RA7LJU4n"
      },
      "execution_count": 14,
      "outputs": []
    },
    {
      "cell_type": "code",
      "source": [
        "df = df.withColumn('Year', F.col('Year').cast('integer')) "
      ],
      "metadata": {
        "id": "RNaX4acnKYz8"
      },
      "execution_count": 17,
      "outputs": []
    },
    {
      "cell_type": "code",
      "source": [
        "df.printSchema()"
      ],
      "metadata": {
        "colab": {
          "base_uri": "https://localhost:8080/"
        },
        "id": "YO1S3X6oKrOI",
        "outputId": "f742272c-ab7a-45cb-9e4a-ab536f04a672"
      },
      "execution_count": 18,
      "outputs": [
        {
          "output_type": "stream",
          "name": "stdout",
          "text": [
            "root\n",
            " |-- Rank: integer (nullable = true)\n",
            " |-- Name: string (nullable = true)\n",
            " |-- Platform: string (nullable = true)\n",
            " |-- Year: integer (nullable = true)\n",
            " |-- Genre: string (nullable = true)\n",
            " |-- Publisher: string (nullable = true)\n",
            " |-- NA_Sales: double (nullable = true)\n",
            " |-- EU_Sales: double (nullable = true)\n",
            " |-- JP_Sales: double (nullable = true)\n",
            " |-- Other_Sales: double (nullable = true)\n",
            " |-- Global_Sales: double (nullable = true)\n",
            "\n"
          ]
        }
      ]
    },
    {
      "cell_type": "markdown",
      "source": [
        "## Questão 2\n",
        "\n",
        "Construa uma tabela com:\n",
        "- contagem das observações\n",
        "- média\n",
        "- desvio padrão\n",
        "- valor mínimo\n",
        "- valor máximo\n",
        "\n",
        "para todas as coluna de vendas (que possuem \"Sales\" no nome).\n",
        "\n",
        "**Dica:** uma **única função** consegue calcular todos estes valores."
      ],
      "metadata": {
        "id": "GJe0H1AQsL15"
      }
    },
    {
      "cell_type": "code",
      "source": [
        "df.describe(['NA_Sales', 'EU_Sales', 'JP_Sales', 'Other_Sales', 'Global_Sales']).show()"
      ],
      "metadata": {
        "id": "CLGOCHisRt_m",
        "colab": {
          "base_uri": "https://localhost:8080/"
        },
        "outputId": "ba95e3d6-aab7-4383-9a2c-45681559dc88"
      },
      "execution_count": 21,
      "outputs": [
        {
          "output_type": "stream",
          "name": "stdout",
          "text": [
            "+-------+------------------+-------------------+-------------------+--------------------+------------------+\n",
            "|summary|          NA_Sales|           EU_Sales|           JP_Sales|         Other_Sales|      Global_Sales|\n",
            "+-------+------------------+-------------------+-------------------+--------------------+------------------+\n",
            "|  count|             16598|              16598|              16598|               16598|             16598|\n",
            "|   mean|0.2646674298108155|0.14665200626581024|0.07778166044101428|0.048063019640918934|0.5374406555006714|\n",
            "| stddev|0.8166830292988791| 0.5053512312869121| 0.3092906480822032| 0.18858840291271461|1.5550279355699124|\n",
            "|    min|               0.0|                0.0|                0.0|                 0.0|              0.01|\n",
            "|    max|             41.49|              29.02|              10.22|               10.57|             82.74|\n",
            "+-------+------------------+-------------------+-------------------+--------------------+------------------+\n",
            "\n"
          ]
        }
      ]
    },
    {
      "cell_type": "code",
      "source": [
        ""
      ],
      "metadata": {
        "id": "EhLVqLmVOA0m"
      },
      "execution_count": null,
      "outputs": []
    },
    {
      "cell_type": "markdown",
      "source": [
        "## Questão 3\n",
        "\n",
        "Para cada variável categórica do tipo string, calcule quantas categorias distintas estão presentes."
      ],
      "metadata": {
        "id": "qw6Yw6OELil0"
      }
    },
    {
      "cell_type": "code",
      "source": [
        "if df.dtypes == 'string':\n",
        "  for i in df.columns:\n",
        "    df.select('Category').distinct().show(truncate=False)\n",
        "df.head()  "
      ],
      "metadata": {
        "id": "MXxCgIl7Rvze",
        "colab": {
          "base_uri": "https://localhost:8080/"
        },
        "outputId": "2c7ad136-d83a-411f-cdb6-4fba7e1b58eb"
      },
      "execution_count": 26,
      "outputs": [
        {
          "output_type": "execute_result",
          "data": {
            "text/plain": [
              "Row(Rank=3296, Name='Dora the Explorer: Super Spies', Platform='GBA', Year=2004, Genre='Platform', Publisher='Gotham Games', NA_Sales=0.44, EU_Sales=0.16, JP_Sales=0.0, Other_Sales=0.01, Global_Sales=0.61)"
            ]
          },
          "metadata": {},
          "execution_count": 26
        }
      ]
    },
    {
      "cell_type": "code",
      "source": [
        "#columnList = [item[0] for item in df if item[1].startswith('string')] \n",
        "for tipo in df.dtypes:\n",
        "  if tipo[1] == 'string':\n",
        "    df.select(F.countDistinct(tipo[0])).distinct().show(truncate=False) "
      ],
      "metadata": {
        "colab": {
          "base_uri": "https://localhost:8080/"
        },
        "id": "dtAFAHphMg81",
        "outputId": "4ddb247a-f9b7-4e87-dd22-9e226dbc14db"
      },
      "execution_count": 28,
      "outputs": [
        {
          "output_type": "stream",
          "name": "stdout",
          "text": [
            "+--------------------+\n",
            "|count(DISTINCT Name)|\n",
            "+--------------------+\n",
            "|11493               |\n",
            "+--------------------+\n",
            "\n",
            "+------------------------+\n",
            "|count(DISTINCT Platform)|\n",
            "+------------------------+\n",
            "|31                      |\n",
            "+------------------------+\n",
            "\n",
            "+---------------------+\n",
            "|count(DISTINCT Genre)|\n",
            "+---------------------+\n",
            "|12                   |\n",
            "+---------------------+\n",
            "\n",
            "+-------------------------+\n",
            "|count(DISTINCT Publisher)|\n",
            "+-------------------------+\n",
            "|579                      |\n",
            "+-------------------------+\n",
            "\n"
          ]
        }
      ]
    },
    {
      "cell_type": "code",
      "source": [
        "df.select(*[F.count_distinct(col) for col in ['Name','Platform','Genre','Publisher']]).show() "
      ],
      "metadata": {
        "colab": {
          "base_uri": "https://localhost:8080/"
        },
        "id": "Q2ybZ57FOWh9",
        "outputId": "f4f887b3-7add-4ac7-f1dc-032102dbee5d"
      },
      "execution_count": 31,
      "outputs": [
        {
          "output_type": "stream",
          "name": "stdout",
          "text": [
            "+--------------------+------------------------+---------------------+-------------------------+\n",
            "|count(DISTINCT Name)|count(DISTINCT Platform)|count(DISTINCT Genre)|count(DISTINCT Publisher)|\n",
            "+--------------------+------------------------+---------------------+-------------------------+\n",
            "|               11493|                      31|                   12|                      579|\n",
            "+--------------------+------------------------+---------------------+-------------------------+\n",
            "\n"
          ]
        }
      ]
    },
    {
      "cell_type": "markdown",
      "source": [
        "## Questão 4\n",
        "\n",
        "Qual plataforma vendeu mais, mundialmente, considerando todo o período histórico diponível dos dados?  \n",
        "Mostre as top 10 plataformas em vendas."
      ],
      "metadata": {
        "id": "qlb1nF-0UTby"
      }
    },
    {
      "cell_type": "code",
      "source": [
        "(\n",
        "  df\n",
        " .groupby('Platform')\n",
        " .agg(\n",
        "    F.sum('Global_Sales').alias('Global_Sales_sum'),\n",
        " )\n",
        " .orderBy(F.desc('Global_Sales_sum'))\n",
        " .show(10, truncate=False)\n",
        ") "
      ],
      "metadata": {
        "id": "viv9CMtVRw1I",
        "colab": {
          "base_uri": "https://localhost:8080/"
        },
        "outputId": "c462ed39-dc39-4b01-e28e-2bf2a82cb324"
      },
      "execution_count": 34,
      "outputs": [
        {
          "output_type": "stream",
          "name": "stdout",
          "text": [
            "+--------+------------------+\n",
            "|Platform|Global_Sales_sum  |\n",
            "+--------+------------------+\n",
            "|PS2     |1255.6399999999956|\n",
            "|X360    |979.9600000000003 |\n",
            "|PS3     |957.8400000000025 |\n",
            "|Wii     |926.7099999999973 |\n",
            "|DS      |822.4899999999982 |\n",
            "|PS      |730.6599999999992 |\n",
            "|GBA     |318.49999999999943|\n",
            "|PSP     |296.2799999999996 |\n",
            "|PS4     |278.0999999999999 |\n",
            "|PC      |258.82000000000085|\n",
            "+--------+------------------+\n",
            "only showing top 10 rows\n",
            "\n"
          ]
        }
      ]
    },
    {
      "cell_type": "markdown",
      "source": [
        "## Questão 5\n",
        "\n",
        "Faça uma tabela com os jogos que aparecem em múltiplas plataformas, ordene de forma que os jogos com mais plataformas apareçam primeiro e responda:\n",
        "- Qual jogo aparece em mais plataformas? Em quantas plataformas?"
      ],
      "metadata": {
        "id": "ktxA1kpuT1ak"
      }
    },
    {
      "cell_type": "code",
      "source": [
        "(\n",
        "  df\n",
        " .groupby('Name')\n",
        " .agg(\n",
        "    F.count_distinct('Platform').alias('Platform_count_distinct')\n",
        " )\n",
        " .where('Platform_count_distinct > 1')\n",
        " .orderBy(F.desc('Platform_count_distinct'))\n",
        " .show(10, truncate=False)\n",
        ") \n"
      ],
      "metadata": {
        "id": "cf7mFwYORx7K",
        "colab": {
          "base_uri": "https://localhost:8080/"
        },
        "outputId": "a586464e-3fd2-4eeb-b9af-4e096e39a06e"
      },
      "execution_count": 38,
      "outputs": [
        {
          "output_type": "stream",
          "name": "stdout",
          "text": [
            "+----------------------------+-----------------------+\n",
            "|Name                        |Platform_count_distinct|\n",
            "+----------------------------+-----------------------+\n",
            "|Need for Speed: Most Wanted |10                     |\n",
            "|Madden NFL 07               |9                      |\n",
            "|LEGO Marvel Super Heroes    |9                      |\n",
            "|Ratatouille                 |9                      |\n",
            "|FIFA 14                     |9                      |\n",
            "|Terraria                    |8                      |\n",
            "|Madden NFL 08               |8                      |\n",
            "|Monopoly                    |8                      |\n",
            "|Lego Batman 3: Beyond Gotham|8                      |\n",
            "|Angry Birds Star Wars       |8                      |\n",
            "+----------------------------+-----------------------+\n",
            "only showing top 10 rows\n",
            "\n"
          ]
        }
      ]
    },
    {
      "cell_type": "markdown",
      "source": [
        "**Resposta:** Need for Speed: Most Wanted. Aparece em 10 plataformas."
      ],
      "metadata": {
        "id": "0jxfWN5sVPy0"
      }
    },
    {
      "cell_type": "markdown",
      "source": [
        "## Questão 6\n",
        "\n",
        "Utilize a API do Pandas no Spark para calcular a soma das vendas globais para cada ano e gênro de jogo. Faça então um gráfico de linhas com os anos no eixo `x`, as vendas no eixo `y`, de forma que cada linha corresponda a um gênero de jogo.\n",
        "\n",
        "**Dica:** após o cálculo, passar os dados para Pandas antes da plotagem, ou plotar diretamente aproveitando os métodos da classe `pyspark.pandas.DataFrame`.\n",
        "\n",
        "Analise o gráfico e responda:\n",
        "- Entre 1980 e 1990, quais gêneros mais venderam?\n",
        "- Entre 2000 e 2015, quais gêneros mais venderam?"
      ],
      "metadata": {
        "id": "KTKsAT2KUVgZ"
      }
    },
    {
      "cell_type": "code",
      "source": [
        "(\n",
        "  df\n",
        " .groupby('Year','Genre')\n",
        " .agg(\n",
        "    F.sum('Global_Sales').alias('Global_Sales_sum')\n",
        " )\n",
        " .orderBy(F.desc('Global_Sales_sum'))\n",
        " .show(truncate=False)\n",
        ") \n"
      ],
      "metadata": {
        "id": "zO39_am_Ry3W",
        "colab": {
          "base_uri": "https://localhost:8080/"
        },
        "outputId": "9b443c2c-fb98-4e30-dcd0-95ca68d417f9"
      },
      "execution_count": 40,
      "outputs": [
        {
          "output_type": "stream",
          "name": "stdout",
          "text": [
            "+----+-------+------------------+\n",
            "|Year|Genre  |Global_Sales_sum  |\n",
            "+----+-------+------------------+\n",
            "|2009|Action |139.36000000000007|\n",
            "|2009|Sports |138.51999999999992|\n",
            "|2008|Action |136.39000000000004|\n",
            "|2006|Sports |136.16000000000003|\n",
            "|2013|Action |125.22            |\n",
            "|2012|Action |122.04            |\n",
            "|2011|Action |118.95999999999995|\n",
            "|2010|Action |117.63999999999999|\n",
            "|2007|Action |106.5             |\n",
            "|2011|Shooter|99.35999999999999 |\n",
            "|2014|Action |99.02000000000001 |\n",
            "|2007|Sports |98.20000000000005 |\n",
            "|2010|Misc   |96.85999999999999 |\n",
            "|2008|Sports |95.34000000000003 |\n",
            "|2010|Sports |92.53000000000002 |\n",
            "|2007|Misc   |92.27000000000001 |\n",
            "|2008|Misc   |87.02999999999999 |\n",
            "|2002|Action |86.77000000000002 |\n",
            "|2005|Action |85.69000000000003 |\n",
            "|2010|Shooter|77.41             |\n",
            "+----+-------+------------------+\n",
            "only showing top 20 rows\n",
            "\n"
          ]
        }
      ]
    },
    {
      "cell_type": "code",
      "source": [
        "df.pandas_api().groupby(['Year','Genre'])[['Global_Sales']].sum().sort_index().reset_index().plot.line(x='Year', y='Global_Sales', color = 'Genre') "
      ],
      "metadata": {
        "colab": {
          "base_uri": "https://localhost:8080/",
          "height": 542
        },
        "id": "7C965fkVRrhW",
        "outputId": "c858f927-2fb4-4be7-fba9-10b53e1e71e6"
      },
      "execution_count": 50,
      "outputs": [
        {
          "output_type": "display_data",
          "data": {
            "text/html": [
              "<html>\n",
              "<head><meta charset=\"utf-8\" /></head>\n",
              "<body>\n",
              "    <div>            <script src=\"https://cdnjs.cloudflare.com/ajax/libs/mathjax/2.7.5/MathJax.js?config=TeX-AMS-MML_SVG\"></script><script type=\"text/javascript\">if (window.MathJax) {MathJax.Hub.Config({SVG: {font: \"STIX-Web\"}});}</script>                <script type=\"text/javascript\">window.PlotlyConfig = {MathJaxConfig: 'local'};</script>\n",
              "        <script src=\"https://cdn.plot.ly/plotly-2.8.3.min.js\"></script>                <div id=\"5870a49a-0d57-48e1-90fa-734f24e30763\" class=\"plotly-graph-div\" style=\"height:525px; width:100%;\"></div>            <script type=\"text/javascript\">                                    window.PLOTLYENV=window.PLOTLYENV || {};                                    if (document.getElementById(\"5870a49a-0d57-48e1-90fa-734f24e30763\")) {                    Plotly.newPlot(                        \"5870a49a-0d57-48e1-90fa-734f24e30763\",                        [{\"hovertemplate\":\"Genre=Action<br>Year=%{x}<br>Global_Sales=%{y}<extra></extra>\",\"legendgroup\":\"Action\",\"line\":{\"color\":\"#636efa\",\"dash\":\"solid\"},\"marker\":{\"symbol\":\"circle\"},\"mode\":\"lines\",\"name\":\"Action\",\"orientation\":\"v\",\"showlegend\":true,\"x\":[1980,1981,1982,1983,1984,1985,1986,1987,1988,1989,1990,1991,1992,1993,1994,1995,1996,1997,1998,1999,2000,2001,2002,2003,2004,2005,2006,2007,2008,2009,2010,2011,2012,2013,2014,2015,2016,2017],\"xaxis\":\"x\",\"y\":[0.34,14.84,6.5200000000000005,2.8600000000000003,1.85,3.52,13.739999999999998,1.12,1.75,4.64,6.390000000000001,6.760000000000001,3.83,1.81,1.55,3.5700000000000003,20.580000000000002,27.58,39.44,27.78,34.040000000000006,59.38999999999999,86.77000000000005,67.92999999999998,76.25999999999999,85.68999999999998,66.57999999999998,106.5,136.39,139.36000000000007,117.63999999999999,118.96000000000002,122.04000000000002,125.21999999999997,99.02000000000001,70.7,19.90999999999999,0.01],\"yaxis\":\"y\",\"type\":\"scatter\"},{\"hovertemplate\":\"Genre=Fighting<br>Year=%{x}<br>Global_Sales=%{y}<extra></extra>\",\"legendgroup\":\"Fighting\",\"line\":{\"color\":\"#EF553B\",\"dash\":\"solid\"},\"marker\":{\"symbol\":\"circle\"},\"mode\":\"lines\",\"name\":\"Fighting\",\"orientation\":\"v\",\"showlegend\":true,\"x\":[1980,1985,1987,1991,1992,1993,1994,1995,1996,1997,1998,1999,2000,2001,2002,2003,2004,2005,2006,2007,2008,2009,2010,2011,2012,2013,2014,2015,2016],\"xaxis\":\"x\",\"y\":[0.77,1.05,5.42,0.39,15.249999999999998,8.75,8.47,14.850000000000001,18.060000000000002,11.76,31.66,14.260000000000002,20.22,18.119999999999997,25.02,23.73,16.78,19.72,22.549999999999997,17.61,35.37999999999999,32.15,14.889999999999999,22.68,9.509999999999998,7.21,16.15,7.78,3.8600000000000003],\"yaxis\":\"y\",\"type\":\"scatter\"},{\"hovertemplate\":\"Genre=Misc<br>Year=%{x}<br>Global_Sales=%{y}<extra></extra>\",\"legendgroup\":\"Misc\",\"line\":{\"color\":\"#00cc96\",\"dash\":\"solid\"},\"marker\":{\"symbol\":\"circle\"},\"mode\":\"lines\",\"name\":\"Misc\",\"orientation\":\"v\",\"showlegend\":true,\"x\":[1980,1982,1983,1984,1989,1991,1992,1993,1994,1995,1996,1997,1998,1999,2000,2001,2002,2003,2004,2005,2006,2007,2008,2009,2010,2011,2012,2013,2014,2015,2016],\"xaxis\":\"x\",\"y\":[2.71,0.87,2.14,1.45,1.28,0.08,4.9399999999999995,0.3,2.86,6.3999999999999995,10.68,5.6899999999999995,11.939999999999998,20.65,15.540000000000001,16.400000000000002,15.669999999999998,23.820000000000004,31.32,61.23999999999999,67.35,92.26999999999997,87.02999999999997,76.93999999999997,96.85999999999999,56.08000000000001,22.92,25.65,23.679999999999993,11.689999999999998,1.17],\"yaxis\":\"y\",\"type\":\"scatter\"},{\"hovertemplate\":\"Genre=Shooter<br>Year=%{x}<br>Global_Sales=%{y}<extra></extra>\",\"legendgroup\":\"Shooter\",\"line\":{\"color\":\"#ab63fa\",\"dash\":\"solid\"},\"marker\":{\"symbol\":\"circle\"},\"mode\":\"lines\",\"name\":\"Shooter\",\"orientation\":\"v\",\"showlegend\":true,\"x\":[1980,1981,1982,1983,1984,1985,1986,1987,1988,1989,1991,1992,1993,1994,1995,1996,1997,1998,1999,2000,2001,2002,2003,2004,2005,2006,2007,2008,2009,2010,2011,2012,2013,2014,2015,2016],\"xaxis\":\"x\",\"y\":[7.069999999999999,10.040000000000001,3.79,0.48,31.099999999999998,1.0,3.8899999999999997,0.71,0.51,1.2,2.0,0.29000000000000004,3.08,8.3,4.15,6.909999999999998,22.17,9.8,12.25,6.81,24.770000000000003,48.57999999999999,27.14,46.95,41.6,38.370000000000005,71.04,59.50999999999998,69.89000000000001,77.41000000000001,99.35999999999999,72.86,62.80000000000001,66.00000000000001,66.15,18.22],\"yaxis\":\"y\",\"type\":\"scatter\"},{\"hovertemplate\":\"Genre=Sports<br>Year=%{x}<br>Global_Sales=%{y}<extra></extra>\",\"legendgroup\":\"Sports\",\"line\":{\"color\":\"#FFA15A\",\"dash\":\"solid\"},\"marker\":{\"symbol\":\"circle\"},\"mode\":\"lines\",\"name\":\"Sports\",\"orientation\":\"v\",\"showlegend\":true,\"x\":[1980,1981,1982,1983,1984,1985,1986,1987,1988,1989,1990,1991,1992,1993,1994,1995,1996,1997,1998,1999,2000,2001,2002,2003,2004,2005,2006,2007,2008,2009,2010,2011,2012,2013,2014,2015,2016],\"xaxis\":\"x\",\"y\":[0.49,0.79,1.05,3.2,6.18,1.96,5.57,3.7199999999999998,3.5999999999999996,5.720000000000001,2.11,2.41,2.95,3.1799999999999997,8.389999999999999,7.9799999999999995,17.450000000000003,30.02,41.790000000000006,30.289999999999996,41.18999999999998,51.42999999999998,65.42000000000002,56.11,63.67999999999999,59.539999999999985,136.16,98.19999999999996,95.34000000000003,138.51999999999998,92.53000000000003,56.98999999999998,30.929999999999996,41.55,46.660000000000004,41.53999999999999,14.600000000000001],\"yaxis\":\"y\",\"type\":\"scatter\"},{\"hovertemplate\":\"Genre=Platform<br>Year=%{x}<br>Global_Sales=%{y}<extra></extra>\",\"legendgroup\":\"Platform\",\"line\":{\"color\":\"#19d3f3\",\"dash\":\"solid\"},\"marker\":{\"symbol\":\"circle\"},\"mode\":\"lines\",\"name\":\"Platform\",\"orientation\":\"v\",\"showlegend\":true,\"x\":[1981,1982,1983,1984,1985,1986,1987,1988,1989,1990,1991,1992,1993,1994,1995,1996,1997,1998,1999,2000,2001,2002,2003,2004,2005,2006,2007,2008,2009,2010,2011,2012,2013,2014,2015,2016],\"xaxis\":\"x\",\"y\":[6.93,5.03,6.93,0.69,43.17,9.389999999999999,1.7400000000000002,27.73,20.66,22.970000000000002,7.64,13.419999999999998,18.67,28.740000000000002,16.69,28.23,21.85,29.879999999999995,20.82,16.06,39.28,45.97,42.89,47.33999999999999,23.56,49.79999999999999,35.59,35.69999999999999,41.09,31.9,28.11,18.55,25.120000000000005,8.89,6.05,2.07],\"yaxis\":\"y\",\"type\":\"scatter\"},{\"hovertemplate\":\"Genre=Puzzle<br>Year=%{x}<br>Global_Sales=%{y}<extra></extra>\",\"legendgroup\":\"Puzzle\",\"line\":{\"color\":\"#FF6692\",\"dash\":\"solid\"},\"marker\":{\"symbol\":\"circle\"},\"mode\":\"lines\",\"name\":\"Puzzle\",\"orientation\":\"v\",\"showlegend\":true,\"x\":[1981,1982,1983,1984,1985,1988,1989,1990,1991,1992,1993,1994,1995,1996,1997,1998,1999,2000,2001,2002,2003,2004,2005,2006,2007,2008,2009,2010,2011,2012,2013,2014,2015],\"xaxis\":\"x\",\"y\":[2.2399999999999998,10.03,0.78,3.1399999999999997,3.21,5.58,37.75,6.0,3.24,4.84,3.17,1.53,2.71,3.91,5.89,6.34,1.3599999999999999,3.82,8.0,5.34,2.42,8.43,20.449999999999992,10.9,23.999999999999996,15.589999999999996,20.309999999999995,11.18,5.109999999999999,1.7600000000000005,0.99,1.5,0.7],\"yaxis\":\"y\",\"type\":\"scatter\"},{\"hovertemplate\":\"Genre=Racing<br>Year=%{x}<br>Global_Sales=%{y}<extra></extra>\",\"legendgroup\":\"Racing\",\"line\":{\"color\":\"#B6E880\",\"dash\":\"solid\"},\"marker\":{\"symbol\":\"circle\"},\"mode\":\"lines\",\"name\":\"Racing\",\"orientation\":\"v\",\"showlegend\":true,\"x\":[1981,1982,1984,1986,1988,1990,1991,1992,1993,1994,1995,1996,1997,1998,1999,2000,2001,2002,2003,2004,2005,2006,2007,2008,2009,2010,2011,2012,2013,2014,2015,2016],\"xaxis\":\"x\",\"y\":[0.48,1.5699999999999998,5.949999999999999,1.96,2.14,6.26,1.14,9.04,0.36,2.1900000000000004,6.09,28.240000000000002,31.909999999999993,27.9,37.27,19.990000000000002,55.81,30.19999999999999,52.19,47.86,56.42000000000001,34.09,39.16999999999999,70.66,34.19,34.92999999999999,35.00999999999999,14.46,13.04,16.689999999999998,7.92,1.6400000000000001],\"yaxis\":\"y\",\"type\":\"scatter\"},{\"hovertemplate\":\"Genre=Simulation<br>Year=%{x}<br>Global_Sales=%{y}<extra></extra>\",\"legendgroup\":\"Simulation\",\"line\":{\"color\":\"#FF97FF\",\"dash\":\"solid\"},\"marker\":{\"symbol\":\"circle\"},\"mode\":\"lines\",\"name\":\"Simulation\",\"orientation\":\"v\",\"showlegend\":true,\"x\":[1981,1985,1988,1990,1991,1992,1993,1994,1995,1996,1997,1998,1999,2000,2001,2002,2003,2004,2005,2006,2007,2008,2009,2010,2011,2012,2013,2014,2015,2016,2020],\"xaxis\":\"x\",\"y\":[0.45,0.03,0.03,1.14,2.14,2.14,0.19,2.7300000000000004,4.18,11.329999999999998,9.65,7.110000000000001,11.440000000000001,3.38,19.54,10.809999999999997,21.21,10.85,49.27,21.769999999999996,48.97000000000001,46.760000000000005,33.70999999999999,22.14999999999999,15.279999999999998,13.379999999999999,8.670000000000002,5.55,5.620000000000001,0.39,0.29],\"yaxis\":\"y\",\"type\":\"scatter\"},{\"hovertemplate\":\"Genre=Adventure<br>Year=%{x}<br>Global_Sales=%{y}<extra></extra>\",\"legendgroup\":\"Adventure\",\"line\":{\"color\":\"#FECB52\",\"dash\":\"solid\"},\"marker\":{\"symbol\":\"circle\"},\"mode\":\"lines\",\"name\":\"Adventure\",\"orientation\":\"v\",\"showlegend\":true,\"x\":[1983,1987,1991,1992,1993,1994,1995,1996,1997,1998,1999,2000,2001,2002,2003,2004,2005,2006,2007,2008,2009,2010,2011,2012,2013,2014,2015,2016],\"xaxis\":\"x\",\"y\":[0.4,4.38,2.24,12.24,0.07,3.74,0.72,4.19,4.960000000000001,9.050000000000002,7.6,2.98,9.120000000000001,11.05,2.14,8.7,8.53,11.469999999999995,24.469999999999995,25.019999999999975,20.679999999999986,16.569999999999993,15.979999999999992,5.9899999999999975,6.609999999999997,6.059999999999997,8.029999999999998,1.81],\"yaxis\":\"y\",\"type\":\"scatter\"},{\"hovertemplate\":\"Genre=Role-Playing<br>Year=%{x}<br>Global_Sales=%{y}<extra></extra>\",\"legendgroup\":\"Role-Playing\",\"line\":{\"color\":\"#636efa\",\"dash\":\"solid\"},\"marker\":{\"symbol\":\"circle\"},\"mode\":\"lines\",\"name\":\"Role-Playing\",\"orientation\":\"v\",\"showlegend\":true,\"x\":[1986,1987,1988,1989,1990,1991,1992,1993,1994,1995,1996,1997,1998,1999,2000,2001,2002,2003,2004,2005,2006,2007,2008,2009,2010,2011,2012,2013,2014,2015,2016,2017],\"xaxis\":\"x\",\"y\":[2.52,4.65,5.88,2.2,4.52,3.25,6.86,5.59,7.109999999999999,14.260000000000002,43.96,21.790000000000003,28.090000000000003,49.09,29.029999999999998,22.060000000000006,45.129999999999995,30.28,53.95,28.549999999999997,57.72999999999999,43.89,59.83,47.89999999999998,70.52000000000002,53.37,47.81,44.92,45.859999999999985,36.44,6.76,0.04],\"yaxis\":\"y\",\"type\":\"scatter\"},{\"hovertemplate\":\"Genre=Strategy<br>Year=%{x}<br>Global_Sales=%{y}<extra></extra>\",\"legendgroup\":\"Strategy\",\"line\":{\"color\":\"#EF553B\",\"dash\":\"solid\"},\"marker\":{\"symbol\":\"circle\"},\"mode\":\"lines\",\"name\":\"Strategy\",\"orientation\":\"v\",\"showlegend\":true,\"x\":[1991,1992,1993,1994,1995,1996,1997,1998,1999,2000,2001,2002,2003,2004,2005,2006,2007,2008,2009,2010,2011,2012,2013,2014,2015,2016],\"xaxis\":\"x\",\"y\":[0.94,0.36,0.81,3.5600000000000005,6.510000000000001,5.609999999999999,7.710000000000001,13.469999999999999,18.46,8.5,7.549999999999999,5.5600000000000005,7.99,7.190000000000001,5.37,4.2700000000000005,9.419999999999998,11.689999999999998,12.559999999999997,13.870000000000001,9.06,3.33,6.33,0.9900000000000001,1.8200000000000003,0.5],\"yaxis\":\"y\",\"type\":\"scatter\"}],                        {\"template\":{\"data\":{\"bar\":[{\"error_x\":{\"color\":\"#2a3f5f\"},\"error_y\":{\"color\":\"#2a3f5f\"},\"marker\":{\"line\":{\"color\":\"#E5ECF6\",\"width\":0.5},\"pattern\":{\"fillmode\":\"overlay\",\"size\":10,\"solidity\":0.2}},\"type\":\"bar\"}],\"barpolar\":[{\"marker\":{\"line\":{\"color\":\"#E5ECF6\",\"width\":0.5},\"pattern\":{\"fillmode\":\"overlay\",\"size\":10,\"solidity\":0.2}},\"type\":\"barpolar\"}],\"carpet\":[{\"aaxis\":{\"endlinecolor\":\"#2a3f5f\",\"gridcolor\":\"white\",\"linecolor\":\"white\",\"minorgridcolor\":\"white\",\"startlinecolor\":\"#2a3f5f\"},\"baxis\":{\"endlinecolor\":\"#2a3f5f\",\"gridcolor\":\"white\",\"linecolor\":\"white\",\"minorgridcolor\":\"white\",\"startlinecolor\":\"#2a3f5f\"},\"type\":\"carpet\"}],\"choropleth\":[{\"colorbar\":{\"outlinewidth\":0,\"ticks\":\"\"},\"type\":\"choropleth\"}],\"contour\":[{\"colorbar\":{\"outlinewidth\":0,\"ticks\":\"\"},\"colorscale\":[[0.0,\"#0d0887\"],[0.1111111111111111,\"#46039f\"],[0.2222222222222222,\"#7201a8\"],[0.3333333333333333,\"#9c179e\"],[0.4444444444444444,\"#bd3786\"],[0.5555555555555556,\"#d8576b\"],[0.6666666666666666,\"#ed7953\"],[0.7777777777777778,\"#fb9f3a\"],[0.8888888888888888,\"#fdca26\"],[1.0,\"#f0f921\"]],\"type\":\"contour\"}],\"contourcarpet\":[{\"colorbar\":{\"outlinewidth\":0,\"ticks\":\"\"},\"type\":\"contourcarpet\"}],\"heatmap\":[{\"colorbar\":{\"outlinewidth\":0,\"ticks\":\"\"},\"colorscale\":[[0.0,\"#0d0887\"],[0.1111111111111111,\"#46039f\"],[0.2222222222222222,\"#7201a8\"],[0.3333333333333333,\"#9c179e\"],[0.4444444444444444,\"#bd3786\"],[0.5555555555555556,\"#d8576b\"],[0.6666666666666666,\"#ed7953\"],[0.7777777777777778,\"#fb9f3a\"],[0.8888888888888888,\"#fdca26\"],[1.0,\"#f0f921\"]],\"type\":\"heatmap\"}],\"heatmapgl\":[{\"colorbar\":{\"outlinewidth\":0,\"ticks\":\"\"},\"colorscale\":[[0.0,\"#0d0887\"],[0.1111111111111111,\"#46039f\"],[0.2222222222222222,\"#7201a8\"],[0.3333333333333333,\"#9c179e\"],[0.4444444444444444,\"#bd3786\"],[0.5555555555555556,\"#d8576b\"],[0.6666666666666666,\"#ed7953\"],[0.7777777777777778,\"#fb9f3a\"],[0.8888888888888888,\"#fdca26\"],[1.0,\"#f0f921\"]],\"type\":\"heatmapgl\"}],\"histogram\":[{\"marker\":{\"pattern\":{\"fillmode\":\"overlay\",\"size\":10,\"solidity\":0.2}},\"type\":\"histogram\"}],\"histogram2d\":[{\"colorbar\":{\"outlinewidth\":0,\"ticks\":\"\"},\"colorscale\":[[0.0,\"#0d0887\"],[0.1111111111111111,\"#46039f\"],[0.2222222222222222,\"#7201a8\"],[0.3333333333333333,\"#9c179e\"],[0.4444444444444444,\"#bd3786\"],[0.5555555555555556,\"#d8576b\"],[0.6666666666666666,\"#ed7953\"],[0.7777777777777778,\"#fb9f3a\"],[0.8888888888888888,\"#fdca26\"],[1.0,\"#f0f921\"]],\"type\":\"histogram2d\"}],\"histogram2dcontour\":[{\"colorbar\":{\"outlinewidth\":0,\"ticks\":\"\"},\"colorscale\":[[0.0,\"#0d0887\"],[0.1111111111111111,\"#46039f\"],[0.2222222222222222,\"#7201a8\"],[0.3333333333333333,\"#9c179e\"],[0.4444444444444444,\"#bd3786\"],[0.5555555555555556,\"#d8576b\"],[0.6666666666666666,\"#ed7953\"],[0.7777777777777778,\"#fb9f3a\"],[0.8888888888888888,\"#fdca26\"],[1.0,\"#f0f921\"]],\"type\":\"histogram2dcontour\"}],\"mesh3d\":[{\"colorbar\":{\"outlinewidth\":0,\"ticks\":\"\"},\"type\":\"mesh3d\"}],\"parcoords\":[{\"line\":{\"colorbar\":{\"outlinewidth\":0,\"ticks\":\"\"}},\"type\":\"parcoords\"}],\"pie\":[{\"automargin\":true,\"type\":\"pie\"}],\"scatter\":[{\"marker\":{\"colorbar\":{\"outlinewidth\":0,\"ticks\":\"\"}},\"type\":\"scatter\"}],\"scatter3d\":[{\"line\":{\"colorbar\":{\"outlinewidth\":0,\"ticks\":\"\"}},\"marker\":{\"colorbar\":{\"outlinewidth\":0,\"ticks\":\"\"}},\"type\":\"scatter3d\"}],\"scattercarpet\":[{\"marker\":{\"colorbar\":{\"outlinewidth\":0,\"ticks\":\"\"}},\"type\":\"scattercarpet\"}],\"scattergeo\":[{\"marker\":{\"colorbar\":{\"outlinewidth\":0,\"ticks\":\"\"}},\"type\":\"scattergeo\"}],\"scattergl\":[{\"marker\":{\"colorbar\":{\"outlinewidth\":0,\"ticks\":\"\"}},\"type\":\"scattergl\"}],\"scattermapbox\":[{\"marker\":{\"colorbar\":{\"outlinewidth\":0,\"ticks\":\"\"}},\"type\":\"scattermapbox\"}],\"scatterpolar\":[{\"marker\":{\"colorbar\":{\"outlinewidth\":0,\"ticks\":\"\"}},\"type\":\"scatterpolar\"}],\"scatterpolargl\":[{\"marker\":{\"colorbar\":{\"outlinewidth\":0,\"ticks\":\"\"}},\"type\":\"scatterpolargl\"}],\"scatterternary\":[{\"marker\":{\"colorbar\":{\"outlinewidth\":0,\"ticks\":\"\"}},\"type\":\"scatterternary\"}],\"surface\":[{\"colorbar\":{\"outlinewidth\":0,\"ticks\":\"\"},\"colorscale\":[[0.0,\"#0d0887\"],[0.1111111111111111,\"#46039f\"],[0.2222222222222222,\"#7201a8\"],[0.3333333333333333,\"#9c179e\"],[0.4444444444444444,\"#bd3786\"],[0.5555555555555556,\"#d8576b\"],[0.6666666666666666,\"#ed7953\"],[0.7777777777777778,\"#fb9f3a\"],[0.8888888888888888,\"#fdca26\"],[1.0,\"#f0f921\"]],\"type\":\"surface\"}],\"table\":[{\"cells\":{\"fill\":{\"color\":\"#EBF0F8\"},\"line\":{\"color\":\"white\"}},\"header\":{\"fill\":{\"color\":\"#C8D4E3\"},\"line\":{\"color\":\"white\"}},\"type\":\"table\"}]},\"layout\":{\"annotationdefaults\":{\"arrowcolor\":\"#2a3f5f\",\"arrowhead\":0,\"arrowwidth\":1},\"autotypenumbers\":\"strict\",\"coloraxis\":{\"colorbar\":{\"outlinewidth\":0,\"ticks\":\"\"}},\"colorscale\":{\"diverging\":[[0,\"#8e0152\"],[0.1,\"#c51b7d\"],[0.2,\"#de77ae\"],[0.3,\"#f1b6da\"],[0.4,\"#fde0ef\"],[0.5,\"#f7f7f7\"],[0.6,\"#e6f5d0\"],[0.7,\"#b8e186\"],[0.8,\"#7fbc41\"],[0.9,\"#4d9221\"],[1,\"#276419\"]],\"sequential\":[[0.0,\"#0d0887\"],[0.1111111111111111,\"#46039f\"],[0.2222222222222222,\"#7201a8\"],[0.3333333333333333,\"#9c179e\"],[0.4444444444444444,\"#bd3786\"],[0.5555555555555556,\"#d8576b\"],[0.6666666666666666,\"#ed7953\"],[0.7777777777777778,\"#fb9f3a\"],[0.8888888888888888,\"#fdca26\"],[1.0,\"#f0f921\"]],\"sequentialminus\":[[0.0,\"#0d0887\"],[0.1111111111111111,\"#46039f\"],[0.2222222222222222,\"#7201a8\"],[0.3333333333333333,\"#9c179e\"],[0.4444444444444444,\"#bd3786\"],[0.5555555555555556,\"#d8576b\"],[0.6666666666666666,\"#ed7953\"],[0.7777777777777778,\"#fb9f3a\"],[0.8888888888888888,\"#fdca26\"],[1.0,\"#f0f921\"]]},\"colorway\":[\"#636efa\",\"#EF553B\",\"#00cc96\",\"#ab63fa\",\"#FFA15A\",\"#19d3f3\",\"#FF6692\",\"#B6E880\",\"#FF97FF\",\"#FECB52\"],\"font\":{\"color\":\"#2a3f5f\"},\"geo\":{\"bgcolor\":\"white\",\"lakecolor\":\"white\",\"landcolor\":\"#E5ECF6\",\"showlakes\":true,\"showland\":true,\"subunitcolor\":\"white\"},\"hoverlabel\":{\"align\":\"left\"},\"hovermode\":\"closest\",\"mapbox\":{\"style\":\"light\"},\"paper_bgcolor\":\"white\",\"plot_bgcolor\":\"#E5ECF6\",\"polar\":{\"angularaxis\":{\"gridcolor\":\"white\",\"linecolor\":\"white\",\"ticks\":\"\"},\"bgcolor\":\"#E5ECF6\",\"radialaxis\":{\"gridcolor\":\"white\",\"linecolor\":\"white\",\"ticks\":\"\"}},\"scene\":{\"xaxis\":{\"backgroundcolor\":\"#E5ECF6\",\"gridcolor\":\"white\",\"gridwidth\":2,\"linecolor\":\"white\",\"showbackground\":true,\"ticks\":\"\",\"zerolinecolor\":\"white\"},\"yaxis\":{\"backgroundcolor\":\"#E5ECF6\",\"gridcolor\":\"white\",\"gridwidth\":2,\"linecolor\":\"white\",\"showbackground\":true,\"ticks\":\"\",\"zerolinecolor\":\"white\"},\"zaxis\":{\"backgroundcolor\":\"#E5ECF6\",\"gridcolor\":\"white\",\"gridwidth\":2,\"linecolor\":\"white\",\"showbackground\":true,\"ticks\":\"\",\"zerolinecolor\":\"white\"}},\"shapedefaults\":{\"line\":{\"color\":\"#2a3f5f\"}},\"ternary\":{\"aaxis\":{\"gridcolor\":\"white\",\"linecolor\":\"white\",\"ticks\":\"\"},\"baxis\":{\"gridcolor\":\"white\",\"linecolor\":\"white\",\"ticks\":\"\"},\"bgcolor\":\"#E5ECF6\",\"caxis\":{\"gridcolor\":\"white\",\"linecolor\":\"white\",\"ticks\":\"\"}},\"title\":{\"x\":0.05},\"xaxis\":{\"automargin\":true,\"gridcolor\":\"white\",\"linecolor\":\"white\",\"ticks\":\"\",\"title\":{\"standoff\":15},\"zerolinecolor\":\"white\",\"zerolinewidth\":2},\"yaxis\":{\"automargin\":true,\"gridcolor\":\"white\",\"linecolor\":\"white\",\"ticks\":\"\",\"title\":{\"standoff\":15},\"zerolinecolor\":\"white\",\"zerolinewidth\":2}}},\"xaxis\":{\"anchor\":\"y\",\"domain\":[0.0,1.0],\"title\":{\"text\":\"Year\"}},\"yaxis\":{\"anchor\":\"x\",\"domain\":[0.0,1.0],\"title\":{\"text\":\"Global_Sales\"}},\"legend\":{\"title\":{\"text\":\"Genre\"},\"tracegroupgap\":0},\"margin\":{\"t\":60}},                        {\"responsive\": true}                    ).then(function(){\n",
              "                            \n",
              "var gd = document.getElementById('5870a49a-0d57-48e1-90fa-734f24e30763');\n",
              "var x = new MutationObserver(function (mutations, observer) {{\n",
              "        var display = window.getComputedStyle(gd).display;\n",
              "        if (!display || display === 'none') {{\n",
              "            console.log([gd, 'removed!']);\n",
              "            Plotly.purge(gd);\n",
              "            observer.disconnect();\n",
              "        }}\n",
              "}});\n",
              "\n",
              "// Listen for the removal of the full notebook cells\n",
              "var notebookContainer = gd.closest('#notebook-container');\n",
              "if (notebookContainer) {{\n",
              "    x.observe(notebookContainer, {childList: true});\n",
              "}}\n",
              "\n",
              "// Listen for the clearing of the current output cell\n",
              "var outputEl = gd.closest('.output');\n",
              "if (outputEl) {{\n",
              "    x.observe(outputEl, {childList: true});\n",
              "}}\n",
              "\n",
              "                        })                };                            </script>        </div>\n",
              "</body>\n",
              "</html>"
            ]
          },
          "metadata": {}
        }
      ]
    },
    {
      "cell_type": "markdown",
      "source": [
        "**Resposta:**\n",
        "- Entre 1980 e 1990 sobressaíram as vendas de plataforma, tiro (shooter) e puzzle.\n",
        "- Entre 2000 e 2015 teve vendas elevadas de jogos de ação e esporte."
      ],
      "metadata": {
        "id": "913L3sI7esdU"
      }
    },
    {
      "cell_type": "markdown",
      "source": [
        "## Questão 7\n",
        "\n",
        "Registre a tabela usando `createOrReplaceTempView` e faça uso da linguagem SQL criar uma tabela que:\n",
        "- Considere apenas os anos da década de 90 e \n",
        "- Agrupe por ano para responder quantos % cada região teve do total de vendas (vendas globais).\n",
        "\n",
        "Salve o resultado desta query em uma variável chamada `df_questao7`.\n",
        "\n",
        "Após isso, execute o seguinte comando `df_questao7.pandas_api().set_index('YEAR').style.background_gradient(cmap='Oranges')` e responda:\n",
        "- Qual/quais regiões tiveram, relativamente (comparado às vendas globais), mais vendas no fim da década de noventa do que no início?\n",
        "\n",
        "\n",
        "\n",
        "\n",
        "\n",
        "\n"
      ],
      "metadata": {
        "id": "Ia7efqBLDCup"
      }
    },
    {
      "cell_type": "code",
      "source": [
        "df.createOrReplaceTempView('Table')\n",
        "Query = \"\"\"Select Year,\n",
        "                sum(Global_Sales) as GS,\n",
        "                round(sum(NA_Sales)/sum(Global_Sales)*100,2) as pct_NA, \n",
        "                round(sum(EU_Sales)/sum(Global_Sales)*100,2) as pct_EU, \n",
        "                round(sum(JP_Sales)/sum(Global_Sales)*100,2) as pct_JP, \n",
        "                round(sum(Other_Sales)/sum(Global_Sales)*100,2) as pct_Other\n",
        "                From Table \n",
        "           Where Year Between 1990 and 2000\n",
        "           Group by Year\n",
        "           Order by Year DESC;        \n",
        "\"\"\"\n",
        "df_questao7 = spark.sql(Query)\n",
        "df_questao7.show() "
      ],
      "metadata": {
        "id": "rLZUoc2GRzx5",
        "colab": {
          "base_uri": "https://localhost:8080/"
        },
        "outputId": "ab94c943-042b-4c9e-c8bf-1438de85fc09"
      },
      "execution_count": 68,
      "outputs": [
        {
          "output_type": "stream",
          "name": "stdout",
          "text": [
            "+----+------------------+------+------+------+---------+\n",
            "|Year|                GS|pct_NA|pct_EU|pct_JP|pct_Other|\n",
            "+----+------------------+------+------+------+---------+\n",
            "|2000|            201.56| 46.88| 26.17| 21.22|     5.77|\n",
            "|1999|251.27000000000004| 50.17| 24.94| 20.83|      4.0|\n",
            "|1998|256.47000000000014| 50.05| 26.08| 19.51|      4.3|\n",
            "|1997|            200.98| 47.14| 24.04| 24.32|     4.54|\n",
            "|1996|199.15000000000003| 43.57| 23.73| 28.84|     3.86|\n",
            "|1995|             88.11| 28.17| 16.91| 51.92|      3.0|\n",
            "|1994| 79.16999999999996| 35.56| 18.79| 42.93|     2.78|\n",
            "|1993|             45.98| 32.88| 10.11| 55.09|     1.94|\n",
            "|1992|             76.16| 44.47| 15.38| 37.96|     2.17|\n",
            "|1991|32.230000000000004| 39.59| 12.26| 45.86|      2.3|\n",
            "|1990|             49.39| 51.55| 15.45| 30.13|     2.83|\n",
            "+----+------------------+------+------+------+---------+\n",
            "\n"
          ]
        }
      ]
    },
    {
      "cell_type": "code",
      "source": [
        "df_questao7.pandas_api().set_index('Year').style.background_gradient(cmap='Oranges')"
      ],
      "metadata": {
        "colab": {
          "base_uri": "https://localhost:8080/",
          "height": 426
        },
        "id": "4wpRVs-7YESq",
        "outputId": "e05b0b87-136e-4d46-f1af-9f432763d231"
      },
      "execution_count": 69,
      "outputs": [
        {
          "output_type": "execute_result",
          "data": {
            "text/plain": [
              "<pandas.io.formats.style.Styler at 0x7f53f662ac90>"
            ],
            "text/html": [
              "<style type=\"text/css\">\n",
              "#T_2ae53_row0_col0 {\n",
              "  background-color: #d64701;\n",
              "  color: #f1f1f1;\n",
              "}\n",
              "#T_2ae53_row0_col1 {\n",
              "  background-color: #c54102;\n",
              "  color: #f1f1f1;\n",
              "}\n",
              "#T_2ae53_row0_col2, #T_2ae53_row0_col4, #T_2ae53_row2_col0, #T_2ae53_row7_col3, #T_2ae53_row10_col1 {\n",
              "  background-color: #7f2704;\n",
              "  color: #f1f1f1;\n",
              "}\n",
              "#T_2ae53_row0_col3 {\n",
              "  background-color: #ffefe0;\n",
              "  color: #000000;\n",
              "}\n",
              "#T_2ae53_row1_col0 {\n",
              "  background-color: #852904;\n",
              "  color: #f1f1f1;\n",
              "}\n",
              "#T_2ae53_row1_col1 {\n",
              "  background-color: #912e04;\n",
              "  color: #f1f1f1;\n",
              "}\n",
              "#T_2ae53_row1_col2 {\n",
              "  background-color: #963003;\n",
              "  color: #f1f1f1;\n",
              "}\n",
              "#T_2ae53_row1_col3 {\n",
              "  background-color: #fff1e3;\n",
              "  color: #000000;\n",
              "}\n",
              "#T_2ae53_row1_col4 {\n",
              "  background-color: #f98230;\n",
              "  color: #f1f1f1;\n",
              "}\n",
              "#T_2ae53_row2_col1 {\n",
              "  background-color: #932f03;\n",
              "  color: #f1f1f1;\n",
              "}\n",
              "#T_2ae53_row2_col2 {\n",
              "  background-color: #802704;\n",
              "  color: #f1f1f1;\n",
              "}\n",
              "#T_2ae53_row2_col3, #T_2ae53_row5_col1, #T_2ae53_row7_col2, #T_2ae53_row7_col4, #T_2ae53_row9_col0 {\n",
              "  background-color: #fff5eb;\n",
              "  color: #000000;\n",
              "}\n",
              "#T_2ae53_row2_col4 {\n",
              "  background-color: #f26c16;\n",
              "  color: #f1f1f1;\n",
              "}\n",
              "#T_2ae53_row3_col0 {\n",
              "  background-color: #d84801;\n",
              "  color: #f1f1f1;\n",
              "}\n",
              "#T_2ae53_row3_col1 {\n",
              "  background-color: #c03f02;\n",
              "  color: #f1f1f1;\n",
              "}\n",
              "#T_2ae53_row3_col2 {\n",
              "  background-color: #a83703;\n",
              "  color: #f1f1f1;\n",
              "}\n",
              "#T_2ae53_row3_col3, #T_2ae53_row9_col2 {\n",
              "  background-color: #fee5cb;\n",
              "  color: #000000;\n",
              "}\n",
              "#T_2ae53_row3_col4 {\n",
              "  background-color: #e75b0b;\n",
              "  color: #f1f1f1;\n",
              "}\n",
              "#T_2ae53_row4_col0 {\n",
              "  background-color: #da4902;\n",
              "  color: #f1f1f1;\n",
              "}\n",
              "#T_2ae53_row4_col1, #T_2ae53_row6_col3 {\n",
              "  background-color: #eb600e;\n",
              "  color: #f1f1f1;\n",
              "}\n",
              "#T_2ae53_row4_col2 {\n",
              "  background-color: #b03903;\n",
              "  color: #f1f1f1;\n",
              "}\n",
              "#T_2ae53_row4_col3 {\n",
              "  background-color: #fdcd9c;\n",
              "  color: #000000;\n",
              "}\n",
              "#T_2ae53_row4_col4 {\n",
              "  background-color: #fd8c3b;\n",
              "  color: #f1f1f1;\n",
              "}\n",
              "#T_2ae53_row5_col0 {\n",
              "  background-color: #fdd1a3;\n",
              "  color: #000000;\n",
              "}\n",
              "#T_2ae53_row5_col2 {\n",
              "  background-color: #fda159;\n",
              "  color: #000000;\n",
              "}\n",
              "#T_2ae53_row5_col3 {\n",
              "  background-color: #9a3103;\n",
              "  color: #f1f1f1;\n",
              "}\n",
              "#T_2ae53_row5_col4 {\n",
              "  background-color: #fdc997;\n",
              "  color: #000000;\n",
              "}\n",
              "#T_2ae53_row6_col0 {\n",
              "  background-color: #fdd7b1;\n",
              "  color: #000000;\n",
              "}\n",
              "#T_2ae53_row6_col1 {\n",
              "  background-color: #fdbf86;\n",
              "  color: #000000;\n",
              "}\n",
              "#T_2ae53_row6_col2 {\n",
              "  background-color: #f9812e;\n",
              "  color: #f1f1f1;\n",
              "}\n",
              "#T_2ae53_row6_col4 {\n",
              "  background-color: #fdd5ad;\n",
              "  color: #000000;\n",
              "}\n",
              "#T_2ae53_row7_col0, #T_2ae53_row8_col4 {\n",
              "  background-color: #ffeedd;\n",
              "  color: #000000;\n",
              "}\n",
              "#T_2ae53_row7_col1 {\n",
              "  background-color: #fdd9b4;\n",
              "  color: #000000;\n",
              "}\n",
              "#T_2ae53_row8_col0 {\n",
              "  background-color: #fdd9b5;\n",
              "  color: #000000;\n",
              "}\n",
              "#T_2ae53_row8_col1 {\n",
              "  background-color: #e35608;\n",
              "  color: #f1f1f1;\n",
              "}\n",
              "#T_2ae53_row8_col2 {\n",
              "  background-color: #fdba7f;\n",
              "  color: #000000;\n",
              "}\n",
              "#T_2ae53_row8_col3 {\n",
              "  background-color: #fb8836;\n",
              "  color: #f1f1f1;\n",
              "}\n",
              "#T_2ae53_row9_col1 {\n",
              "  background-color: #fd9040;\n",
              "  color: #000000;\n",
              "}\n",
              "#T_2ae53_row9_col3 {\n",
              "  background-color: #db4a02;\n",
              "  color: #f1f1f1;\n",
              "}\n",
              "#T_2ae53_row9_col4 {\n",
              "  background-color: #feead5;\n",
              "  color: #000000;\n",
              "}\n",
              "#T_2ae53_row10_col0 {\n",
              "  background-color: #feecda;\n",
              "  color: #000000;\n",
              "}\n",
              "#T_2ae53_row10_col2 {\n",
              "  background-color: #fdb97d;\n",
              "  color: #000000;\n",
              "}\n",
              "#T_2ae53_row10_col3 {\n",
              "  background-color: #fdc38d;\n",
              "  color: #000000;\n",
              "}\n",
              "#T_2ae53_row10_col4 {\n",
              "  background-color: #fdd3a9;\n",
              "  color: #000000;\n",
              "}\n",
              "</style>\n",
              "<table id=\"T_2ae53_\" class=\"dataframe\">\n",
              "  <thead>\n",
              "    <tr>\n",
              "      <th class=\"blank level0\" >&nbsp;</th>\n",
              "      <th class=\"col_heading level0 col0\" >GS</th>\n",
              "      <th class=\"col_heading level0 col1\" >pct_NA</th>\n",
              "      <th class=\"col_heading level0 col2\" >pct_EU</th>\n",
              "      <th class=\"col_heading level0 col3\" >pct_JP</th>\n",
              "      <th class=\"col_heading level0 col4\" >pct_Other</th>\n",
              "    </tr>\n",
              "    <tr>\n",
              "      <th class=\"index_name level0\" >Year</th>\n",
              "      <th class=\"blank col0\" >&nbsp;</th>\n",
              "      <th class=\"blank col1\" >&nbsp;</th>\n",
              "      <th class=\"blank col2\" >&nbsp;</th>\n",
              "      <th class=\"blank col3\" >&nbsp;</th>\n",
              "      <th class=\"blank col4\" >&nbsp;</th>\n",
              "    </tr>\n",
              "  </thead>\n",
              "  <tbody>\n",
              "    <tr>\n",
              "      <th id=\"T_2ae53_level0_row0\" class=\"row_heading level0 row0\" >2000</th>\n",
              "      <td id=\"T_2ae53_row0_col0\" class=\"data row0 col0\" >201.560000</td>\n",
              "      <td id=\"T_2ae53_row0_col1\" class=\"data row0 col1\" >46.880000</td>\n",
              "      <td id=\"T_2ae53_row0_col2\" class=\"data row0 col2\" >26.170000</td>\n",
              "      <td id=\"T_2ae53_row0_col3\" class=\"data row0 col3\" >21.220000</td>\n",
              "      <td id=\"T_2ae53_row0_col4\" class=\"data row0 col4\" >5.770000</td>\n",
              "    </tr>\n",
              "    <tr>\n",
              "      <th id=\"T_2ae53_level0_row1\" class=\"row_heading level0 row1\" >1999</th>\n",
              "      <td id=\"T_2ae53_row1_col0\" class=\"data row1 col0\" >251.270000</td>\n",
              "      <td id=\"T_2ae53_row1_col1\" class=\"data row1 col1\" >50.170000</td>\n",
              "      <td id=\"T_2ae53_row1_col2\" class=\"data row1 col2\" >24.940000</td>\n",
              "      <td id=\"T_2ae53_row1_col3\" class=\"data row1 col3\" >20.830000</td>\n",
              "      <td id=\"T_2ae53_row1_col4\" class=\"data row1 col4\" >4.000000</td>\n",
              "    </tr>\n",
              "    <tr>\n",
              "      <th id=\"T_2ae53_level0_row2\" class=\"row_heading level0 row2\" >1998</th>\n",
              "      <td id=\"T_2ae53_row2_col0\" class=\"data row2 col0\" >256.470000</td>\n",
              "      <td id=\"T_2ae53_row2_col1\" class=\"data row2 col1\" >50.050000</td>\n",
              "      <td id=\"T_2ae53_row2_col2\" class=\"data row2 col2\" >26.080000</td>\n",
              "      <td id=\"T_2ae53_row2_col3\" class=\"data row2 col3\" >19.510000</td>\n",
              "      <td id=\"T_2ae53_row2_col4\" class=\"data row2 col4\" >4.300000</td>\n",
              "    </tr>\n",
              "    <tr>\n",
              "      <th id=\"T_2ae53_level0_row3\" class=\"row_heading level0 row3\" >1997</th>\n",
              "      <td id=\"T_2ae53_row3_col0\" class=\"data row3 col0\" >200.980000</td>\n",
              "      <td id=\"T_2ae53_row3_col1\" class=\"data row3 col1\" >47.140000</td>\n",
              "      <td id=\"T_2ae53_row3_col2\" class=\"data row3 col2\" >24.040000</td>\n",
              "      <td id=\"T_2ae53_row3_col3\" class=\"data row3 col3\" >24.320000</td>\n",
              "      <td id=\"T_2ae53_row3_col4\" class=\"data row3 col4\" >4.540000</td>\n",
              "    </tr>\n",
              "    <tr>\n",
              "      <th id=\"T_2ae53_level0_row4\" class=\"row_heading level0 row4\" >1996</th>\n",
              "      <td id=\"T_2ae53_row4_col0\" class=\"data row4 col0\" >199.150000</td>\n",
              "      <td id=\"T_2ae53_row4_col1\" class=\"data row4 col1\" >43.570000</td>\n",
              "      <td id=\"T_2ae53_row4_col2\" class=\"data row4 col2\" >23.730000</td>\n",
              "      <td id=\"T_2ae53_row4_col3\" class=\"data row4 col3\" >28.840000</td>\n",
              "      <td id=\"T_2ae53_row4_col4\" class=\"data row4 col4\" >3.860000</td>\n",
              "    </tr>\n",
              "    <tr>\n",
              "      <th id=\"T_2ae53_level0_row5\" class=\"row_heading level0 row5\" >1995</th>\n",
              "      <td id=\"T_2ae53_row5_col0\" class=\"data row5 col0\" >88.110000</td>\n",
              "      <td id=\"T_2ae53_row5_col1\" class=\"data row5 col1\" >28.170000</td>\n",
              "      <td id=\"T_2ae53_row5_col2\" class=\"data row5 col2\" >16.910000</td>\n",
              "      <td id=\"T_2ae53_row5_col3\" class=\"data row5 col3\" >51.920000</td>\n",
              "      <td id=\"T_2ae53_row5_col4\" class=\"data row5 col4\" >3.000000</td>\n",
              "    </tr>\n",
              "    <tr>\n",
              "      <th id=\"T_2ae53_level0_row6\" class=\"row_heading level0 row6\" >1994</th>\n",
              "      <td id=\"T_2ae53_row6_col0\" class=\"data row6 col0\" >79.170000</td>\n",
              "      <td id=\"T_2ae53_row6_col1\" class=\"data row6 col1\" >35.560000</td>\n",
              "      <td id=\"T_2ae53_row6_col2\" class=\"data row6 col2\" >18.790000</td>\n",
              "      <td id=\"T_2ae53_row6_col3\" class=\"data row6 col3\" >42.930000</td>\n",
              "      <td id=\"T_2ae53_row6_col4\" class=\"data row6 col4\" >2.780000</td>\n",
              "    </tr>\n",
              "    <tr>\n",
              "      <th id=\"T_2ae53_level0_row7\" class=\"row_heading level0 row7\" >1993</th>\n",
              "      <td id=\"T_2ae53_row7_col0\" class=\"data row7 col0\" >45.980000</td>\n",
              "      <td id=\"T_2ae53_row7_col1\" class=\"data row7 col1\" >32.880000</td>\n",
              "      <td id=\"T_2ae53_row7_col2\" class=\"data row7 col2\" >10.110000</td>\n",
              "      <td id=\"T_2ae53_row7_col3\" class=\"data row7 col3\" >55.090000</td>\n",
              "      <td id=\"T_2ae53_row7_col4\" class=\"data row7 col4\" >1.940000</td>\n",
              "    </tr>\n",
              "    <tr>\n",
              "      <th id=\"T_2ae53_level0_row8\" class=\"row_heading level0 row8\" >1992</th>\n",
              "      <td id=\"T_2ae53_row8_col0\" class=\"data row8 col0\" >76.160000</td>\n",
              "      <td id=\"T_2ae53_row8_col1\" class=\"data row8 col1\" >44.470000</td>\n",
              "      <td id=\"T_2ae53_row8_col2\" class=\"data row8 col2\" >15.380000</td>\n",
              "      <td id=\"T_2ae53_row8_col3\" class=\"data row8 col3\" >37.960000</td>\n",
              "      <td id=\"T_2ae53_row8_col4\" class=\"data row8 col4\" >2.170000</td>\n",
              "    </tr>\n",
              "    <tr>\n",
              "      <th id=\"T_2ae53_level0_row9\" class=\"row_heading level0 row9\" >1991</th>\n",
              "      <td id=\"T_2ae53_row9_col0\" class=\"data row9 col0\" >32.230000</td>\n",
              "      <td id=\"T_2ae53_row9_col1\" class=\"data row9 col1\" >39.590000</td>\n",
              "      <td id=\"T_2ae53_row9_col2\" class=\"data row9 col2\" >12.260000</td>\n",
              "      <td id=\"T_2ae53_row9_col3\" class=\"data row9 col3\" >45.860000</td>\n",
              "      <td id=\"T_2ae53_row9_col4\" class=\"data row9 col4\" >2.300000</td>\n",
              "    </tr>\n",
              "    <tr>\n",
              "      <th id=\"T_2ae53_level0_row10\" class=\"row_heading level0 row10\" >1990</th>\n",
              "      <td id=\"T_2ae53_row10_col0\" class=\"data row10 col0\" >49.390000</td>\n",
              "      <td id=\"T_2ae53_row10_col1\" class=\"data row10 col1\" >51.550000</td>\n",
              "      <td id=\"T_2ae53_row10_col2\" class=\"data row10 col2\" >15.450000</td>\n",
              "      <td id=\"T_2ae53_row10_col3\" class=\"data row10 col3\" >30.130000</td>\n",
              "      <td id=\"T_2ae53_row10_col4\" class=\"data row10 col4\" >2.830000</td>\n",
              "    </tr>\n",
              "  </tbody>\n",
              "</table>\n"
            ]
          },
          "metadata": {},
          "execution_count": 69
        }
      ]
    },
    {
      "cell_type": "markdown",
      "source": [
        "**Resposta:** A região da Europa e \"Outras regiões\" tiverem um aumento notável quando comparado ao ínicio da década de 90."
      ],
      "metadata": {
        "id": "L6nphScqOFEd"
      }
    },
    {
      "cell_type": "markdown",
      "source": [
        "## Questão 8\n",
        "\n",
        "Calcule quantas vezes cada região teve vendas superiores às demais."
      ],
      "metadata": {
        "id": "sGaTtlhATKJb"
      }
    },
    {
      "cell_type": "code",
      "source": [
        "df.createOrReplaceTempView('Table')\n",
        "Query = \"\"\"Select Year,\n",
        "                sum(Global_Sales) as GS,\n",
        "                round(sum(NA_Sales)/sum(Global_Sales)*100,2) as pct_NA, \n",
        "                round(sum(EU_Sales)/sum(Global_Sales)*100,2) as pct_EU, \n",
        "                round(sum(JP_Sales)/sum(Global_Sales)*100,2) as pct_JP, \n",
        "                round(sum(Other_Sales)/sum(Global_Sales)*100,2) as pct_Other\n",
        "                From Table \n",
        "                Group by Year\n",
        "                Order by Year DESC;        \n",
        "\"\"\"\n",
        "df_questao8 = spark.sql(Query)\n",
        "df_questao8.show() "
      ],
      "metadata": {
        "id": "aAlq0SyER0uW",
        "colab": {
          "base_uri": "https://localhost:8080/"
        },
        "outputId": "7a168b89-7d32-4023-bbf5-fe971c2d0ef2"
      },
      "execution_count": 72,
      "outputs": [
        {
          "output_type": "stream",
          "name": "stdout",
          "text": [
            "+----+------------------+------+------+------+---------+\n",
            "|Year|                GS|pct_NA|pct_EU|pct_JP|pct_Other|\n",
            "+----+------------------+------+------+------+---------+\n",
            "|2020|              0.29|  93.1|   0.0|   0.0|      6.9|\n",
            "|2017|              0.05|   0.0|   0.0| 100.0|      0.0|\n",
            "|2016| 70.92999999999998| 31.95| 37.73| 19.31|    10.93|\n",
            "|2015| 264.4400000000001| 38.88| 36.95| 12.75|    11.35|\n",
            "|2014| 337.0500000000003| 39.15| 37.28| 11.71|    11.87|\n",
            "|2013| 368.1100000000001| 42.04| 34.17| 12.93|    10.82|\n",
            "|2012|363.53999999999985| 42.63| 32.67| 14.23|     10.4|\n",
            "|2011| 515.9900000000014| 46.72| 32.45| 10.28|    10.54|\n",
            "|2010|            600.45| 50.67| 29.43|  9.91|     9.98|\n",
            "|2009| 667.2999999999994| 50.78| 28.71|  9.27|     11.2|\n",
            "|2008| 678.8999999999977| 51.77| 27.16|  8.88|    12.14|\n",
            "|2007| 611.1299999999991| 51.06| 26.26|  9.87|     12.7|\n",
            "|2006| 521.0399999999998|  50.5|  24.8| 14.15|    10.45|\n",
            "|2005| 459.9400000000002| 52.75| 26.51|  11.8|     8.82|\n",
            "|2004| 419.3100000000001| 53.08| 25.59|  9.93|    11.28|\n",
            "|2003| 357.8499999999999|  54.1| 29.01|  9.56|     7.27|\n",
            "|2002|            395.52| 54.66| 27.75| 10.56|      6.9|\n",
            "|2001|331.46999999999986| 52.49| 28.63| 12.03|     6.87|\n",
            "|2000|201.56000000000006| 46.88| 26.17| 21.22|     5.77|\n",
            "|1999|251.26999999999998| 50.17| 24.94| 20.83|      4.0|\n",
            "+----+------------------+------+------+------+---------+\n",
            "only showing top 20 rows\n",
            "\n"
          ]
        }
      ]
    },
    {
      "cell_type": "code",
      "source": [
        "df1 = df.withColumn('max_sale', F.greatest(*['NA_Sales','EU_Sales','JP_Sales','Other_Sales'])).withColumn(\n",
        "     'Regiao_Maior_Venda',\n",
        "     F.when(F.col('NA_Sales') == F.col('max_sale'), 'NA_Sales')\n",
        "     .when(F.col('EU_Sales') == F.col('max_sale'), 'EU_Sales')\n",
        "     .when(F.col('JP_Sales') == F.col('max_sale'), 'JP_Sales')\n",
        "     .otherwise('Other_Sales')\n",
        "     )\n",
        "\n",
        "df1.show()\n"
      ],
      "metadata": {
        "colab": {
          "base_uri": "https://localhost:8080/"
        },
        "id": "qrTSRsceZWGK",
        "outputId": "f3bdbd29-f07a-4070-d610-2b6ecdfa88fa"
      },
      "execution_count": 86,
      "outputs": [
        {
          "output_type": "stream",
          "name": "stdout",
          "text": [
            "+-----+--------------------+--------+----+------------+--------------------+--------+--------+--------+-----------+------------+--------+------------------+\n",
            "| Rank|                Name|Platform|Year|       Genre|           Publisher|NA_Sales|EU_Sales|JP_Sales|Other_Sales|Global_Sales|max_sale|Regiao_Maior_Venda|\n",
            "+-----+--------------------+--------+----+------------+--------------------+--------+--------+--------+-----------+------------+--------+------------------+\n",
            "| 3296|Dora the Explorer...|     GBA|2004|    Platform|        Gotham Games|    0.44|    0.16|     0.0|       0.01|        0.61|    0.44|          NA_Sales|\n",
            "| 5695|Dynasty Warriors ...|     PS2|2004|      Action|          Tecmo Koei|     0.0|     0.0|    0.32|        0.0|        0.32|    0.32|          JP_Sales|\n",
            "| 4986|San Francisco Rus...|      PS|1997|      Racing|      GT Interactive|    0.21|    0.15|     0.0|       0.03|        0.38|    0.21|          NA_Sales|\n",
            "| 1281|WWF WrestleMania ...|     N64|1999|    Fighting|                 THQ|     1.2|    0.25|    0.02|       0.02|        1.48|     1.2|          NA_Sales|\n",
            "| 4877|      Alpha Protocol|    X360|2010|Role-Playing|                Sega|    0.23|    0.13|     0.0|       0.04|         0.4|    0.23|          NA_Sales|\n",
            "|13565|Need for Speed: P...|      PC|2007|      Racing|     Electronic Arts|     0.0|    0.04|     0.0|       0.01|        0.04|    0.04|          EU_Sales|\n",
            "|11123|World Soccer Winn...|      XB|2004|      Sports|Konami Digital En...|    0.07|    0.02|     0.0|        0.0|        0.09|    0.07|          NA_Sales|\n",
            "| 2795|The Sims 2: Castaway|      DS|2007|  Simulation|     Electronic Arts|    0.63|    0.05|     0.0|       0.06|        0.73|    0.63|          NA_Sales|\n",
            "| 2614|Dance Dance Revol...|     PS2|2007|  Simulation|Konami Digital En...|    0.64|    0.03|    0.02|        0.1|        0.79|    0.64|          NA_Sales|\n",
            "| 6485|Phantasy Star Uni...|     PS2|2007|Role-Playing|                Sega|     0.1|    0.08|    0.05|       0.03|        0.26|     0.1|          NA_Sales|\n",
            "|  989|Metroid II: Retur...|      GB|1991|   Adventure|            Nintendo|    0.85|    0.31|    0.56|       0.04|        1.76|    0.85|          NA_Sales|\n",
            "| 4218|Kong: The 8th Won...|     GBA|2005|      Action|             Ubisoft|    0.33|    0.12|     0.0|       0.01|        0.47|    0.33|          NA_Sales|\n",
            "|11025|Jimmie Johnson's ...|    X360|2011|      Racing|Konami Digital En...|    0.08|     0.0|     0.0|       0.01|        0.09|    0.08|          NA_Sales|\n",
            "| 1286|Tom Clancy's Spli...|      XB|2004|      Action|             Ubisoft|    0.82|    0.59|     0.0|       0.07|        1.48|    0.82|          NA_Sales|\n",
            "| 1526|Rise of the Tomb ...|    XOne|2015|   Adventure|         Square Enix|    0.53|    0.64|    0.02|        0.1|         1.3|    0.64|          EU_Sales|\n",
            "| 7979|Magical Starsign ...|      DS|2006|Role-Playing|            Nintendo|    0.16|    0.03|     0.0|        0.0|        0.19|    0.16|          NA_Sales|\n",
            "| 1913|Ready 2 Rumble Bo...|      PS|1998|      Sports|        Midway Games|     0.6|    0.41|     0.0|       0.07|        1.08|     0.6|          NA_Sales|\n",
            "|11543|Yuu Yuu Hakusho: ...|     GEN|1994|    Fighting|                Sega|     0.0|     0.0|    0.08|        0.0|        0.08|    0.08|          JP_Sales|\n",
            "| 1760|LEGO Star Wars: T...|      XB|2005|      Action|   Eidos Interactive|    0.83|    0.28|     0.0|       0.05|        1.16|    0.83|          NA_Sales|\n",
            "| 1952|    Worms Armageddon|      PS|1999|    Strategy|          Microprose|    0.18|    0.81|     0.0|       0.08|        1.06|    0.81|          EU_Sales|\n",
            "+-----+--------------------+--------+----+------------+--------------------+--------+--------+--------+-----------+------------+--------+------------------+\n",
            "only showing top 20 rows\n",
            "\n"
          ]
        }
      ]
    },
    {
      "cell_type": "code",
      "source": [
        "df1.groupby('Regiao_Maior_Venda').count().show()"
      ],
      "metadata": {
        "colab": {
          "base_uri": "https://localhost:8080/"
        },
        "id": "R1n-oJ5FeHuv",
        "outputId": "27fc6496-0fa6-434e-fc27-96894233cb18"
      },
      "execution_count": 87,
      "outputs": [
        {
          "output_type": "stream",
          "name": "stdout",
          "text": [
            "+------------------+-----+\n",
            "|Regiao_Maior_Venda|count|\n",
            "+------------------+-----+\n",
            "|          EU_Sales| 2380|\n",
            "|          JP_Sales| 4029|\n",
            "|          NA_Sales|10113|\n",
            "|       Other_Sales|   76|\n",
            "+------------------+-----+\n",
            "\n"
          ]
        }
      ]
    },
    {
      "cell_type": "markdown",
      "source": [
        "## Questão 9\n",
        "\n",
        "Construe uma tabela que mostre a diferença do total de vendas em um década com a década anterior e responda:\n",
        "- Qual década apresentou a **menor diferença** comparada à década anterior?"
      ],
      "metadata": {
        "id": "LxTa6E2WNOGR"
      }
    },
    {
      "cell_type": "code",
      "source": [
        "#df.withColumn('Decade', F.floor(F.col('Year')/10)*10).show()\n",
        "df2 = (\n",
        "    df.where('Year is not null')\n",
        "  .withColumn('Decade', F.floor(F.col('Year')/10)*10)\n",
        "  .groupby('Decade')\n",
        "  .sum('Global_Sales')\n",
        "  .orderBy('Decade')\n",
        "  )\n",
        "\n",
        "df2.show()"
      ],
      "metadata": {
        "id": "FpkdFnwaR1tI",
        "colab": {
          "base_uri": "https://localhost:8080/"
        },
        "outputId": "d0a471bb-dbc5-4d57-ecaa-d70ed4d98d71"
      },
      "execution_count": 104,
      "outputs": [
        {
          "output_type": "stream",
          "name": "stdout",
          "text": [
            "+------+------------------+\n",
            "|Decade| sum(Global_Sales)|\n",
            "+------+------------------+\n",
            "|  1980|376.58000000000004|\n",
            "|  1990|1278.9099999999992|\n",
            "|  2000|4644.0199999999695|\n",
            "|  2010|2520.5599999999868|\n",
            "|  2020|              0.29|\n",
            "+------+------------------+\n",
            "\n"
          ]
        }
      ]
    },
    {
      "cell_type": "code",
      "source": [
        "w = Window.orderBy('Decade')\n",
        "\n",
        "(\n",
        "  df\n",
        " .where('Year IS NOT NULL')\n",
        " .withColumn('Decade', F.floor(F.col('Year')/10)*10) # possível fazer com when, porém mais código necessário\n",
        " .groupby('Decade')\n",
        " .agg(F.mean('Global_Sales').alias('global_sales_mean'))\n",
        " .withColumn('global_sales_mean_lag', F.lag('global_sales_mean').over(w))\n",
        " .withColumn('Delta_global_sales_mean', F.col('global_sales_mean') - F.col('global_sales_mean_lag'))\n",
        " .orderBy('Decade')\n",
        " .show()\n",
        ") "
      ],
      "metadata": {
        "colab": {
          "base_uri": "https://localhost:8080/"
        },
        "id": "HHIpcTntjm2D",
        "outputId": "9d71a69e-bd98-419b-ee2d-28283d7ce24b"
      },
      "execution_count": 105,
      "outputs": [
        {
          "output_type": "stream",
          "name": "stdout",
          "text": [
            "+------+-------------------+---------------------+-----------------------+\n",
            "|Decade|  global_sales_mean|global_sales_mean_lag|Delta_global_sales_mean|\n",
            "+------+-------------------+---------------------+-----------------------+\n",
            "|  1980| 1.8369756097560979|                 null|                   null|\n",
            "|  1990|   0.72295647258338|   1.8369756097560979|     -1.114019137172718|\n",
            "|  2000| 0.5043462206776683|     0.72295647258338|    -0.2186102519057117|\n",
            "|  2010|0.48999999999999744|   0.5043462206776683|   -0.01434622067767...|\n",
            "|  2020|               0.29|  0.48999999999999744|   -0.19999999999999746|\n",
            "+------+-------------------+---------------------+-----------------------+\n",
            "\n"
          ]
        }
      ]
    },
    {
      "cell_type": "markdown",
      "source": [
        "## Questão 10 - PLUS\n",
        "\n",
        "Utilizando apenas a sintaxe do pyspark, faça uma função que calcule a moda do dataframe para um grupo de colunas que o usuário vai especificar. Além da moda, o dataframe de saída deve conter a quantidade de vezes que a moda aparece, e tambem se é multimodal.\n",
        "\n",
        "Sua função deve receber como entrada:\n",
        "- O pyspark dataframe\n",
        "- A coluna-alvo que desejamos saber a moda e\n",
        "- Os grupos (colunas do dataframe) que iremos considerar para calcular a moda \n",
        "\n",
        "O resultado será uma linha por grupo, contendo a identificação do grupo, a moda, a quantidade de vezes que apareceu, e se é um caso multimodal.\n",
        "\n",
        "Por exemplo, considerando o seguinte dataframe:\n",
        "\n",
        "```\n",
        "df_test = spark.createDataFrame([\n",
        "  (2.4,'A','A1'), (2.4,'A','A1'), (2.5,'A','A1'), (2.6,'A','A1'), (2.7,'A','A1'),\n",
        "  (2.4,'B','A1'), (2.5,'B','A1'), (2.5,'B','A1'), (2.6,'B','A1'), (2.4,'B','A1')\n",
        "], ('values','inner_group', 'main_group')).select('main_group', 'inner_group', 'values')\n",
        "\n",
        "df_test.show()\n",
        "```\n",
        "\n",
        "```\n",
        "+----------+-----------+------+\n",
        "|main_group|inner_group|values|\n",
        "+----------+-----------+------+\n",
        "|        A1|          A|   2.4|\n",
        "|        A1|          A|   2.4|\n",
        "|        A1|          A|   2.5|\n",
        "|        A1|          A|   2.6|\n",
        "|        A1|          A|   2.7|\n",
        "|        A1|          B|   2.4|\n",
        "|        A1|          B|   2.5|\n",
        "|        A1|          B|   2.5|\n",
        "|        A1|          B|   2.6|\n",
        "|        A1|          B|   2.4|\n",
        "+----------+-----------+------+\n",
        "```\n",
        "\n",
        "Ao aplicar a função:  \n",
        "`calculate_mode(df=df_test, target_col='values', group_cols=['main_group','inner_group']).show()`\n",
        "\n",
        "o retorno deve ser:\n",
        "\n",
        "```\n",
        "+----------+-----------+----+-----------+----------+\n",
        "|main_group|inner_group|mode|mode_counts|multimodal|\n",
        "+----------+-----------+----+-----------+----------+\n",
        "|        A1|          A| 2.4|          2|     false|\n",
        "|        A1|          B| 2.4|          2|      true|\n",
        "+----------+-----------+----+-----------+----------+\n",
        "```\n",
        "\n",
        "pois no grupo `A1-A` o valor 2.4 é o que mais aparece (2x), e nenhum outro valor aparece duas vezes também. Já no grupo `A1-B` o valor 2.4 também é o que mais aparece (2X), porém em conjunto com o 2.5, que também aparece duas 2X. Neste caso, devemos reportar apenas uma das modas e informar que é multimodal."
      ],
      "metadata": {
        "id": "erKQhaWbp9Gk"
      }
    },
    {
      "cell_type": "code",
      "source": [
        "df_test = spark.createDataFrame([\n",
        "  (2.4,'A','A1'), (2.4,'A','A1'), (2.5,'A','A1'), (2.6,'A','A1'), (2.7,'A','A1'),\n",
        "  (2.4,'B','A1'), (2.5,'B','A1'), (2.5,'B','A1'), (2.6,'B','A1'), (2.4,'B','A1')\n",
        "], ('values','inner_group', 'main_group')).select('main_group', 'inner_group', 'values')\n",
        "\n",
        "df_test.show()"
      ],
      "metadata": {
        "id": "5mn0_pmKR7yz",
        "colab": {
          "base_uri": "https://localhost:8080/"
        },
        "outputId": "d8e1fce7-4742-4fcd-c2db-abc2481b0739"
      },
      "execution_count": 106,
      "outputs": [
        {
          "output_type": "stream",
          "name": "stdout",
          "text": [
            "+----------+-----------+------+\n",
            "|main_group|inner_group|values|\n",
            "+----------+-----------+------+\n",
            "|        A1|          A|   2.4|\n",
            "|        A1|          A|   2.4|\n",
            "|        A1|          A|   2.5|\n",
            "|        A1|          A|   2.6|\n",
            "|        A1|          A|   2.7|\n",
            "|        A1|          B|   2.4|\n",
            "|        A1|          B|   2.5|\n",
            "|        A1|          B|   2.5|\n",
            "|        A1|          B|   2.6|\n",
            "|        A1|          B|   2.4|\n",
            "+----------+-----------+------+\n",
            "\n"
          ]
        }
      ]
    },
    {
      "cell_type": "code",
      "source": [
        "def calculate_mode(df, target_col, group_cols=None):\n",
        "  \"\"\"Calculate mode\n",
        "\n",
        "  Parameters\n",
        "  ----------\n",
        "  df : pyspark.DataFrame\n",
        "    The dataframe in which the function will be applied\n",
        "  target_col : str\n",
        "    Column name in which the mode will be calculated from\n",
        "  group_cols : list\n",
        "    List column names to make the group. If None, no grouping will be considered.\n",
        "\n",
        "  Returns\n",
        "  -------\n",
        "  output: pyspark.DataFrame\n",
        "    Dataframe with group identification (one per line), the mode, value counts,\n",
        "    and a column specifying if the group has more than one mode.\n",
        "  \"\"\"\n",
        "\n",
        "  if group_cols is None:\n",
        "    window_vals = Window.partitionBy('count')\n",
        "    df_mode = df.groupby(target_col).count()\n",
        "    max_count = df_mode.select(F.max('count')).collect()[0][0]\n",
        "\n",
        "    df_mode = df_mode.filter(F.col('count')==max_count)\n",
        "    nrows = df_mode.count()\n",
        "\n",
        "    df_mode = df_mode.select(F.col(target_col).alias('mode'), F.col('count').alias('mode_counts'), (F.lit(nrows)>1).alias('multimodal'))\n",
        "\n",
        "  else:\n",
        "    window_grp = Window.partitionBy(*group_cols)\n",
        "    window_grp_vals = Window.partitionBy(*group_cols, target_col)\n",
        "\n",
        "    df_mode = (\n",
        "      df\n",
        "      .withColumn('counts', F.count(F.col(target_col)).over(window_grp_vals))\n",
        "      .withColumn('counts_max', F.max('counts').over(window_grp))\n",
        "      .filter(f'counts = counts_max')\n",
        "      .dropDuplicates(subset=[*group_cols, target_col])\n",
        "      .withColumn('multimodal', F.count(target_col).over(window_grp)>1)\n",
        "      .withColumnRenamed(target_col, 'mode')\n",
        "      .withColumnRenamed('counts_max', 'mode_counts')\n",
        "      .dropDuplicates(subset=[*group_cols])\n",
        "      .select(*group_cols, 'mode', 'mode_counts', 'multimodal')\n",
        "    )\n",
        "  return df_mode"
      ],
      "metadata": {
        "id": "VhoscoOsk9hR"
      },
      "execution_count": 107,
      "outputs": []
    },
    {
      "cell_type": "code",
      "source": [
        "calculate_mode(df_test, 'values', ['main_group','inner_group']).show()"
      ],
      "metadata": {
        "colab": {
          "base_uri": "https://localhost:8080/"
        },
        "id": "VJ5gIx3ek_qz",
        "outputId": "4e8a5ad5-7161-4fff-9c38-94d46318bb7c"
      },
      "execution_count": 108,
      "outputs": [
        {
          "output_type": "stream",
          "name": "stdout",
          "text": [
            "+----------+-----------+----+-----------+----------+\n",
            "|main_group|inner_group|mode|mode_counts|multimodal|\n",
            "+----------+-----------+----+-----------+----------+\n",
            "|        A1|          A| 2.4|          2|     false|\n",
            "|        A1|          B| 2.4|          2|      true|\n",
            "+----------+-----------+----+-----------+----------+\n",
            "\n"
          ]
        }
      ]
    }
  ]
}